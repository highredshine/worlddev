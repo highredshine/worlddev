{
 "cells": [
  {
   "cell_type": "markdown",
   "metadata": {},
   "source": [
    "# Enhancement"
   ]
  },
  {
   "cell_type": "markdown",
   "metadata": {},
   "source": [
    "## 1. Retrieve Data from MongoDB\n",
    "Retreive all documents from MongoDB and convrt it to a `pandas.DataFrame`"
   ]
  },
  {
   "cell_type": "code",
   "execution_count": 65,
   "metadata": {},
   "outputs": [],
   "source": [
    "import pandas as pds\n",
    "sql = \"\"\"\n",
    "SELECT indicator, AVG(value) as mean\n",
    "FROM `worlddev.wdi.main`\n",
    "WHERE country_code = @country_code\n",
    "GROUP BY indicator\n",
    "\"\"\"\n",
    "\n",
    "def config(country_code):\n",
    "    query_config = {\n",
    "        'query': {\n",
    "            'parameterMode': 'NAMED',\n",
    "            'queryParameters': [\n",
    "                {\n",
    "                    'name': 'country_code',\n",
    "                    'parameterType': {'type': 'STRING'},\n",
    "                    'parameterValue': {'value': country_code}\n",
    "                }\n",
    "            ]\n",
    "        }\n",
    "    }\n",
    "    return query_config\n",
    "\n",
    "# Run a Standard SQL query with the project set explicitly\n",
    "project_id = 'worlddev'\n",
    "\n",
    "def get_data(country_code):\n",
    "    df = pds.read_gbq(sql, configuration=config(country_code), project_id=project_id)\n",
    "    return df"
   ]
  },
  {
   "cell_type": "code",
   "execution_count": 66,
   "metadata": {},
   "outputs": [
    {
     "name": "stderr",
     "output_type": "stream",
     "text": [
      "Downloading: 100%|██████████| 453/453 [00:00<00:00, 2804.38rows/s]\n",
      "Downloading: 100%|██████████| 409/409 [00:00<00:00, 1137.42rows/s]\n",
      "Downloading: 100%|██████████| 378/378 [00:00<00:00, 2263.49rows/s]\n",
      "Downloading: 100%|██████████| 416/416 [00:00<00:00, 2084.13rows/s]\n"
     ]
    }
   ],
   "source": [
    "wld = get_data('WLD')\n",
    "chn = get_data('CHN')\n",
    "usa = get_data('USA')\n",
    "bra = get_data('BRA')"
   ]
  },
  {
   "cell_type": "code",
   "execution_count": 67,
   "metadata": {},
   "outputs": [
    {
     "data": {
      "text/html": [
       "<div>\n",
       "<style scoped>\n",
       "    .dataframe tbody tr th:only-of-type {\n",
       "        vertical-align: middle;\n",
       "    }\n",
       "\n",
       "    .dataframe tbody tr th {\n",
       "        vertical-align: top;\n",
       "    }\n",
       "\n",
       "    .dataframe thead th {\n",
       "        text-align: right;\n",
       "    }\n",
       "</style>\n",
       "<table border=\"1\" class=\"dataframe\">\n",
       "  <thead>\n",
       "    <tr style=\"text-align: right;\">\n",
       "      <th></th>\n",
       "      <th>indicator</th>\n",
       "      <th>mean</th>\n",
       "    </tr>\n",
       "  </thead>\n",
       "  <tbody>\n",
       "    <tr>\n",
       "      <th>0</th>\n",
       "      <td>Access to clean fuels and technologies for coo...</td>\n",
       "      <td>1.000000e+02</td>\n",
       "    </tr>\n",
       "    <tr>\n",
       "      <th>1</th>\n",
       "      <td>Access to electricity</td>\n",
       "      <td>1.000000e+02</td>\n",
       "    </tr>\n",
       "    <tr>\n",
       "      <th>2</th>\n",
       "      <td>Account ownership at a financial institution o...</td>\n",
       "      <td>8.382918e+01</td>\n",
       "    </tr>\n",
       "    <tr>\n",
       "      <th>3</th>\n",
       "      <td>Adjusted net enrollment rate</td>\n",
       "      <td>9.705572e+01</td>\n",
       "    </tr>\n",
       "    <tr>\n",
       "      <th>4</th>\n",
       "      <td>Adjusted net national income</td>\n",
       "      <td>8.922813e+12</td>\n",
       "    </tr>\n",
       "    <tr>\n",
       "      <th>...</th>\n",
       "      <td>...</td>\n",
       "      <td>...</td>\n",
       "    </tr>\n",
       "    <tr>\n",
       "      <th>373</th>\n",
       "      <td>Urban population growth</td>\n",
       "      <td>1.321498e+00</td>\n",
       "    </tr>\n",
       "    <tr>\n",
       "      <th>374</th>\n",
       "      <td>Urban population living in areas where elevati...</td>\n",
       "      <td>2.279562e+00</td>\n",
       "    </tr>\n",
       "    <tr>\n",
       "      <th>375</th>\n",
       "      <td>Vulnerable employment</td>\n",
       "      <td>3.856621e+00</td>\n",
       "    </tr>\n",
       "    <tr>\n",
       "      <th>376</th>\n",
       "      <td>Wage and salaried workers</td>\n",
       "      <td>9.403452e+01</td>\n",
       "    </tr>\n",
       "    <tr>\n",
       "      <th>377</th>\n",
       "      <td>Water productivity</td>\n",
       "      <td>2.486204e+01</td>\n",
       "    </tr>\n",
       "  </tbody>\n",
       "</table>\n",
       "<p>378 rows × 2 columns</p>\n",
       "</div>"
      ],
      "text/plain": [
       "                                             indicator          mean\n",
       "0    Access to clean fuels and technologies for coo...  1.000000e+02\n",
       "1                                Access to electricity  1.000000e+02\n",
       "2    Account ownership at a financial institution o...  8.382918e+01\n",
       "3                         Adjusted net enrollment rate  9.705572e+01\n",
       "4                         Adjusted net national income  8.922813e+12\n",
       "..                                                 ...           ...\n",
       "373                            Urban population growth  1.321498e+00\n",
       "374  Urban population living in areas where elevati...  2.279562e+00\n",
       "375                              Vulnerable employment  3.856621e+00\n",
       "376                          Wage and salaried workers  9.403452e+01\n",
       "377                                 Water productivity  2.486204e+01\n",
       "\n",
       "[378 rows x 2 columns]"
      ]
     },
     "execution_count": 67,
     "metadata": {},
     "output_type": "execute_result"
    }
   ],
   "source": [
    "usa"
   ]
  },
  {
   "cell_type": "markdown",
   "metadata": {},
   "source": [
    "# TensorFlow model to model each country as an embedding vector\n",
    "\n",
    "This process is to prelimiarily compare a developed country, a developing country, and a vague country. We bring in all the cleaned up indicators, and create a clustering by creating embedding vectors based on these values, normalize them, and conduct PCA to draw them on a plot. We can clearly see that USA is faraway from the World average, and Brazil and China are pretty similar to each other. "
   ]
  },
  {
   "cell_type": "code",
   "execution_count": 82,
   "metadata": {},
   "outputs": [
    {
     "data": {
      "text/plain": [
       "array([[ 54.61707757,  67.89113068,  52.16160456, ...,  51.10279134,\n",
       "         47.42107992,  19.54766922],\n",
       "       [ 53.25176471,  96.15677797,  62.51767095, ...,  58.65872409,\n",
       "         39.99658617,   5.61005995],\n",
       "       [100.        , 100.        ,  83.82917531, ...,   3.85662069,\n",
       "         94.03451696,  24.86203563],\n",
       "       [ 92.19882353,  82.78662927,  50.46011225, ...,  28.21813794,\n",
       "         69.19782757,  30.26601334]])"
      ]
     },
     "execution_count": 82,
     "metadata": {},
     "output_type": "execute_result"
    }
   ],
   "source": [
    "merge1 = pds.merge(wld, chn, on='indicator', how='inner')\n",
    "merge1 = merge1.rename(columns={\"mean_x\": \"wld\", \"mean_y\": \"chn\"})\n",
    "merge2 = pds.merge(usa, bra, on='indicator', how='inner')\n",
    "merge2 = merge2.rename(columns={\"mean_x\": \"usa\", \"mean_y\": \"bra\"})\n",
    "embeddings = pds.merge(merge1, merge2, on='indicator', how='inner')\n",
    "embeddings = embeddings.drop(['indicator'], axis=1)\n",
    "embeddings = np.transpose(embeddings.to_numpy())\n",
    "embeddings"
   ]
  },
  {
   "cell_type": "code",
   "execution_count": 83,
   "metadata": {
    "scrolled": false
   },
   "outputs": [
    {
     "data": {
      "image/png": "[encoded data removed]",
      "text/plain": [
       "<Figure size 1296x1152 with 1 Axes>"
      ]
     },
     "metadata": {
      "needs_background": "light"
     },
     "output_type": "display_data"
    }
   ],
   "source": [
    "# Visualizing the Embeddings\n",
    "from sklearn.manifold import TSNE\n",
    "from sklearn import preprocessing\n",
    "import matplotlib.pyplot as plt\n",
    "\n",
    "from sklearn.decomposition import PCA\n",
    "\n",
    "# reduce dimenion from 30 to 2\n",
    "pca = PCA(n_components=2) # PCA is better than TSNE for large dimension like 30 :)\n",
    "\n",
    "vectors = pca.fit_transform(np.array(embeddings))\n",
    "\n",
    "# normalize the results so that we can view them more comfortably in matplotlib\n",
    "normalizer = preprocessing.Normalizer()\n",
    "norm_vectors = normalizer.fit_transform(vectors, 'l2')\n",
    "\n",
    "# plot the 2D normalized vectors\n",
    "x_vec = []\n",
    "y_vec = []\n",
    "for x,y in norm_vectors:\n",
    "  x_vec.append(x)\n",
    "  y_vec.append(y)\n",
    "  \n",
    "f, axs = plt.subplots(1,1,figsize=(18,16))\n",
    "plt.scatter(x_vec, y_vec)\n",
    "countries = ['World', 'China', 'USA', 'Brazil']\n",
    "for i in range(len(countries)):\n",
    "      plt.annotate(countries[i], (x_vec[i], y_vec[i]))\n",
    "plt.show()"
   ]
  },
  {
   "cell_type": "markdown",
   "metadata": {},
   "source": [
    "The actual website will c"
   ]
  }
 ],
 "metadata": {
  "kernelspec": {
   "display_name": "Python 3",
   "language": "python",
   "name": "python3"
  },
  "language_info": {
   "codemirror_mode": {
    "name": "ipython",
    "version": 3
   },
   "file_extension": ".py",
   "mimetype": "text/x-python",
   "name": "python",
   "nbconvert_exporter": "python",
   "pygments_lexer": "ipython3",
   "version": "3.7.4"
  }
 },
 "nbformat": 4,
 "nbformat_minor": 2
}
